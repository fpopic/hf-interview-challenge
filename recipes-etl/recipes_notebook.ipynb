{
 "cells": [
  {
   "cell_type": "markdown",
   "metadata": {},
   "source": [
    "## Prepare imports and spark"
   ]
  },
  {
   "cell_type": "code",
   "execution_count": 2,
   "metadata": {},
   "outputs": [],
   "source": [
    "import argparse\n",
    "import logging\n",
    "import os\n",
    "import shutil\n",
    "import isodate\n",
    "\n",
    "import findspark\n",
    "findspark.init()\n",
    "\n",
    "import pyspark\n",
    "from pyspark import SparkContext\n",
    "from pyspark.sql import *\n",
    "from pyspark.sql.types import *\n",
    "from pyspark.sql.functions import udf, lit\n",
    "\n",
    "sc = SparkContext(\"local[*]\").getOrCreate()\n",
    "sqlc = SQLContext(sc)"
   ]
  },
  {
   "cell_type": "markdown",
   "metadata": {},
   "source": [
    "## Files"
   ]
  },
  {
   "cell_type": "code",
   "execution_count": 3,
   "metadata": {
    "collapsed": true
   },
   "outputs": [],
   "source": [
    "# hardcoded paths\n",
    "in_path = '/home/fpopic/Projects/PycharmProjects/HelloFreshChallenge/data/recipes.json'\n",
    "out_path = '/home/fpopic/Projects/PycharmProjects/HelloFreshChallenge/data/output.parquet'\n",
    "\n",
    "# remove previous hadoop file (directory) if already exists\n",
    "if os.path.isdir(out_path):\n",
    "    shutil.rmtree(out_path)"
   ]
  },
  {
   "cell_type": "markdown",
   "metadata": {},
   "source": [
    "## Load input json file and infer DataFrame schema"
   ]
  },
  {
   "cell_type": "code",
   "execution_count": 4,
   "metadata": {
    "scrolled": true
   },
   "outputs": [
    {
     "name": "stdout",
     "output_type": "stream",
     "text": [
      "root\n",
      " |-- cookTime: string (nullable = true)\n",
      " |-- datePublished: string (nullable = true)\n",
      " |-- description: string (nullable = true)\n",
      " |-- image: string (nullable = true)\n",
      " |-- ingredients: string (nullable = true)\n",
      " |-- name: string (nullable = true)\n",
      " |-- prepTime: string (nullable = true)\n",
      " |-- recipeYield: string (nullable = true)\n",
      " |-- url: string (nullable = true)\n",
      "\n",
      "Number of loaded recipes: 1042\n"
     ]
    }
   ],
   "source": [
    "recipes_df = sqlc.read.json(in_path).cache()\n",
    "\n",
    "recipes_df.printSchema()\n",
    "print(\"Number of loaded recipes:\", recipes_df.count())"
   ]
  },
  {
   "cell_type": "markdown",
   "metadata": {},
   "source": [
    "## Prepare some UDFs for DataFrame transformations"
   ]
  },
  {
   "cell_type": "code",
   "execution_count": 5,
   "metadata": {
    "collapsed": true
   },
   "outputs": [],
   "source": [
    "@udf(returnType=BooleanType())\n",
    "def contains_ingredient(recipe, ingredient):\n",
    "    if recipe is not None:\n",
    "        return ingredient in recipe.lower()\n",
    "    return False\n",
    "\n",
    "def parse_isoduration(iso_duration):\n",
    "    \"\"\"author: Ed Finkler\"\"\"\n",
    "    \"\"\"parse the given iso8601 duration string into a python timedelta object\"\"\"\n",
    "    delta = None\n",
    "    try:\n",
    "        delta = isodate.parse_duration(iso_duration)\n",
    "    except Exception as e:\n",
    "        logging.warning(e.message)\n",
    "    return delta  \n",
    "\n",
    "@udf\n",
    "def compute_dificulty(prepTime, cookTime):\n",
    "    prepTime = parse_isoduration(prepTime)\n",
    "    cookTime = parse_isoduration(cookTime)\n",
    "    total = prepTime.seconds / 60.0 + cookTime.seconds / 60.0\n",
    "    if total < 30.0:\n",
    "        return \"Easy\"\n",
    "    if 30.0 <= total <= 60.0:\n",
    "        return \"Medium\"\n",
    "    if total > 60.0:\n",
    "        return \"Hard\"\n",
    "    return \"Unknown\""
   ]
  },
  {
   "cell_type": "markdown",
   "metadata": {
    "collapsed": true
   },
   "source": [
    "## Apply transformations and print schema"
   ]
  },
  {
   "cell_type": "code",
   "execution_count": 6,
   "metadata": {},
   "outputs": [
    {
     "name": "stdout",
     "output_type": "stream",
     "text": [
      "root\n",
      " |-- cookTime: string (nullable = true)\n",
      " |-- datePublished: string (nullable = true)\n",
      " |-- description: string (nullable = true)\n",
      " |-- image: string (nullable = true)\n",
      " |-- ingredients: string (nullable = true)\n",
      " |-- name: string (nullable = true)\n",
      " |-- prepTime: string (nullable = true)\n",
      " |-- recipeYield: string (nullable = true)\n",
      " |-- url: string (nullable = true)\n",
      " |-- difficulty: string (nullable = true)\n",
      "\n",
      "Number of recipes that use beef: 47\n"
     ]
    }
   ],
   "source": [
    "beef_recipes_df = recipes_df \\\n",
    "    .filter(contains_ingredient('ingredients', lit('beef'))) \\\n",
    "    .withColumn('difficulty', compute_dificulty('prepTime', 'cookTime'))\n",
    "    \n",
    "beef_recipes_df.printSchema()\n",
    "\n",
    "beef_count = beef_recipes_df.count()\n",
    "print(\"Number of recipes that use beef:\", beef_count)"
   ]
  },
  {
   "cell_type": "markdown",
   "metadata": {},
   "source": [
    "## Sanity check before writing"
   ]
  },
  {
   "cell_type": "code",
   "execution_count": 7,
   "metadata": {},
   "outputs": [
    {
     "name": "stdout",
     "output_type": "stream",
     "text": [
      "+---------------------------------------------------+--------+--------+----------+\n",
      "|name                                               |prepTime|cookTime|difficulty|\n",
      "+---------------------------------------------------+--------+--------+----------+\n",
      "|Patty Melts                                        |PT10M   |PT25M   |Medium    |\n",
      "|Spicy Stewed Beef with Creamy Cheddar Grits        |PT20M   |PT3H    |Hard      |\n",
      "|Pork Chops with Garlic and Wine                    |PT5M    |PT25M   |Medium    |\n",
      "|Salisbury Steak, Mashed Potatoes, and Peas         |PT10M   |PT20M   |Medium    |\n",
      "|Hot &amp; Spicy Italian Drip Beef                  |PT5M    |PT4H    |Hard      |\n",
      "|Surf &amp; Turf Cajun Pasta                        |PT20M   |PT25M   |Medium    |\n",
      "|Spaghetti Sauce                                    |PT20M   |PT1H    |Hard      |\n",
      "|Pepperoni Pizza Burgers                            |PT5M    |PT10M   |Easy      |\n",
      "|Supreme Pizza Burgers                              |PT5M    |PT15M   |Easy      |\n",
      "|Short Ribs with Wine and Cream                     |PT10M   |PT3H    |Hard      |\n",
      "|Pork Roast with Apples and Onions                  |PT15M   |PT2H    |Hard      |\n",
      "|Spicy Whiskey BBQ Sliders                          |PT15M   |PT15M   |Medium    |\n",
      "|Beef Stew with Mushrooms                           |PT25M   |PT30M   |Medium    |\n",
      "|Beef Stew with Beer and Paprika                    |PT10M   |PT2H30M |Hard      |\n",
      "|Beef and Bean Burritos                             |PT5M    |PT11M   |Easy      |\n",
      "|BBQ Comfort Meatballs                              |PT15M   |PT45M   |Medium    |\n",
      "|Meatballs with Peppers and Pineapple               |PT20M   |PT20M   |Medium    |\n",
      "|Short Ribs in Tomato Sauce                         |PT10M   |PT4H    |Hard      |\n",
      "|Italian Pot Roast                                  |PT1M    |PT4H    |Hard      |\n",
      "|Cajun Meatloaf                                     |PT40M   |PT40M   |Hard      |\n",
      "|Braised Short Ribs                                 |PT20M   |PT2H    |Hard      |\n",
      "|Braised Beef Brisket                               |PT10M   |PT6H    |Hard      |\n",
      "|Mushroom-and-Swiss Sliders with Spicy Fry Sauce    |PT15M   |PT30M   |Medium    |\n",
      "|My Favorite Meatloaf                               |PT15M   |PT45M   |Medium    |\n",
      "|Burgundy Mushrooms                                 |PT5M    |PT9H    |Hard      |\n",
      "|French Onion Soup Stuffed Mushrooms                |PT20M   |PT30M   |Medium    |\n",
      "|Baked Ziti                                         |PT15M   |PT45M   |Medium    |\n",
      "|Sunday Night Stew                                  |PT15M   |PT3H    |Hard      |\n",
      "|Italian Meatball Soup                              |PT30M   |PT45M   |Hard      |\n",
      "|Drip Beef, Two Ways                                |PT5M    |PT6H    |Hard      |\n",
      "|Spaghetti &amp; Meatballs                          |PT25M   |PT1H    |Hard      |\n",
      "|Passover Brisket                                   |PT10M   |PT7H    |Hard      |\n",
      "|Sloppy Joes                                        |PT10M   |PT20M   |Medium    |\n",
      "|Cowboy Nachos                                      |PT15M   |PT5M    |Easy      |\n",
      "|Enchiladas                                         |PT1H30M |PT20M   |Hard      |\n",
      "|Steak Bites                                        |PT5M    |PT10M   |Easy      |\n",
      "|My Favorite Burger                                 |PT20M   |PT6M    |Easy      |\n",
      "|French Onion Soup                                  |PT20M   |PT2H    |Hard      |\n",
      "|Pasta alla Marlboro Man                            |PT10M   |PT1H    |Hard      |\n",
      "|Ryan’s Bolognese Sauce                             |PT30M   |PT2H    |Hard      |\n",
      "|Leftover Brisket Tostadas                          |PT15M   |PT5M    |Easy      |\n",
      "|Cooking With Pastor Ryan: Delicious Mexican Lasagna|PT45M   |PT35M   |Hard      |\n",
      "|Salad Tacos                                        |PT10M   |PT15M   |Easy      |\n",
      "|Beef Fajitas                                       |PT2H    |PT15M   |Hard      |\n",
      "|The Best Lasagna. Ever.                            |PT30M   |PT30M   |Medium    |\n",
      "|Roasted Beef Tenderloin                            |PT25M   |PT25M   |Medium    |\n",
      "|Hot Roast Beef Sandwiches                          |PT20M   |PT20M   |Medium    |\n",
      "+---------------------------------------------------+--------+--------+----------+\n",
      "\n"
     ]
    }
   ],
   "source": [
    "beef_recipes_df \\\n",
    "    .select('name','prepTime', 'cookTime', 'difficulty') \\\n",
    "    .show(beef_count, False)"
   ]
  },
  {
   "cell_type": "markdown",
   "metadata": {
    "collapsed": true
   },
   "source": [
    "## Write to parquet file"
   ]
  },
  {
   "cell_type": "code",
   "execution_count": 8,
   "metadata": {
    "collapsed": true
   },
   "outputs": [],
   "source": [
    "beef_recipes_df.write.parquet(out_path)"
   ]
  }
 ],
 "metadata": {
  "kernelspec": {
   "display_name": "Python 3",
   "language": "python",
   "name": "python3"
  },
  "language_info": {
   "codemirror_mode": {
    "name": "ipython",
    "version": 3
   },
   "file_extension": ".py",
   "mimetype": "text/x-python",
   "name": "python",
   "nbconvert_exporter": "python",
   "pygments_lexer": "ipython3",
   "version": "3.5.2"
  }
 },
 "nbformat": 4,
 "nbformat_minor": 2
}
